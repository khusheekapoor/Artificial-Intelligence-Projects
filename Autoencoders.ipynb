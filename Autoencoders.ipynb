{
  "nbformat": 4,
  "nbformat_minor": 0,
  "metadata": {
    "colab": {
      "provenance": []
    },
    "kernelspec": {
      "name": "python3",
      "display_name": "Python 3"
    },
    "language_info": {
      "name": "python"
    },
    "accelerator": "GPU",
    "gpuClass": "standard"
  },
  "cells": [
    {
      "cell_type": "markdown",
      "source": [
        "# Week 1\n",
        "\n",
        "Author: Khushee Kapoor\n",
        "\n",
        "Registration Number: 200968052"
      ],
      "metadata": {
        "id": "xcrJ4WH6R5OX"
      }
    },
    {
      "cell_type": "markdown",
      "source": [
        "To start, we import the following libraries:\n",
        "- numpy: for data manipulation\n",
        "- pandas: for data manipulation\n",
        "- matplotlib: for data visualization\n",
        "- tensorflow: for building neural networks"
      ],
      "metadata": {
        "id": "XEIHLqePR-qX"
      }
    },
    {
      "cell_type": "code",
      "execution_count": null,
      "metadata": {
        "id": "hPW7HFAgEQuo"
      },
      "outputs": [],
      "source": [
        "# importing the libraries\n",
        "import numpy as np\n",
        "import pandas as pd\n",
        "from matplotlib import pyplot as plt\n",
        "import tensorflow as tf"
      ]
    },
    {
      "cell_type": "markdown",
      "source": [
        "## Exercise 1"
      ],
      "metadata": {
        "id": "cP5nZX1aJJOM"
      }
    },
    {
      "cell_type": "markdown",
      "source": [
        "To start with Exercise 1, we import the Fashion MNIST dataset that is already pre-loaded in tensorflow as training and testing sets."
      ],
      "metadata": {
        "id": "4WuJ2fF6SNcJ"
      }
    },
    {
      "cell_type": "code",
      "source": [
        "# importing fashion mnist dataset\n",
        "(x_train, y_train), (x_test, y_test) = tf.keras.datasets.fashion_mnist.load_data()"
      ],
      "metadata": {
        "id": "pYLb3BP8Eh3K",
        "colab": {
          "base_uri": "https://localhost:8080/"
        },
        "outputId": "17f7edd8-4980-442f-8d5b-a483ed3579bc"
      },
      "execution_count": null,
      "outputs": [
        {
          "output_type": "stream",
          "name": "stdout",
          "text": [
            "Downloading data from https://storage.googleapis.com/tensorflow/tf-keras-datasets/train-labels-idx1-ubyte.gz\n",
            "29515/29515 [==============================] - 0s 0us/step\n",
            "Downloading data from https://storage.googleapis.com/tensorflow/tf-keras-datasets/train-images-idx3-ubyte.gz\n",
            "26421880/26421880 [==============================] - 1s 0us/step\n",
            "Downloading data from https://storage.googleapis.com/tensorflow/tf-keras-datasets/t10k-labels-idx1-ubyte.gz\n",
            "5148/5148 [==============================] - 0s 0us/step\n",
            "Downloading data from https://storage.googleapis.com/tensorflow/tf-keras-datasets/t10k-images-idx3-ubyte.gz\n",
            "4422102/4422102 [==============================] - 0s 0us/step\n"
          ]
        }
      ]
    },
    {
      "cell_type": "markdown",
      "source": [
        "Next, we preprocess the images in the Fashion MNIST dataset by scaling down the pixel values by 255 (maximum value) and reshaping the image to a 784 dimesnional vector."
      ],
      "metadata": {
        "id": "PX1-W3j4SaAP"
      }
    },
    {
      "cell_type": "code",
      "source": [
        "# preprocessing and reshaping the images\n",
        "x_train = x_train.astype('float32') / 255.\n",
        "x_train = x_train.reshape((len(x_train), np.prod(x_train.shape[1:])))\n",
        "x_test = x_test.astype('float32') / 255.\n",
        "x_test = x_test.reshape((len(x_test), np.prod(x_test.shape[1:])))"
      ],
      "metadata": {
        "id": "u8DklP5SFUvq"
      },
      "execution_count": null,
      "outputs": []
    },
    {
      "cell_type": "markdown",
      "source": [
        "After that, we build the autoencoder architecture. We have the following layers:\n",
        "- Input: takes in a 784 dimensional vector\n",
        "- Encoder: maps the input to a 64 dimensional latent space with relu activation\n",
        "- Decoder: maps the latent space back to a 784 dimensional vector with signmoid activation\n",
        "\n",
        "We then link the above layers and put together the model."
      ],
      "metadata": {
        "id": "khhnFNA7Sqy7"
      }
    },
    {
      "cell_type": "code",
      "source": [
        "# building the autoencoder\n",
        "input = tf.keras.Input(shape=(784, ))\n",
        "encoder = tf.keras.layers.Dense(64, activation='relu')(input)\n",
        "decoder = tf.keras.layers.Dense(784, activation='sigmoid')(encoder)\n",
        "autoencoder = tf.keras.Model(input, decoder)"
      ],
      "metadata": {
        "id": "Cw053wYrE4HS"
      },
      "execution_count": null,
      "outputs": []
    },
    {
      "cell_type": "markdown",
      "source": [
        "Next, we compile the autoencoder and fit it on the training data. We use the adam optimizer and mean squared error for the same."
      ],
      "metadata": {
        "id": "RgkIKXz1TJwF"
      }
    },
    {
      "cell_type": "code",
      "source": [
        "# compiling and training the model\n",
        "autoencoder.compile(optimizer='adam', loss='mean_squared_error')\n",
        "autoencoder.fit(x_train, x_train, epochs=10)"
      ],
      "metadata": {
        "colab": {
          "base_uri": "https://localhost:8080/"
        },
        "id": "B6w0DqONF42C",
        "outputId": "97de1a5c-591c-418c-83a9-2039477776dd"
      },
      "execution_count": null,
      "outputs": [
        {
          "output_type": "stream",
          "name": "stdout",
          "text": [
            "Epoch 1/10\n",
            "1875/1875 [==============================] - 9s 3ms/step - loss: 0.0243\n",
            "Epoch 2/10\n",
            "1875/1875 [==============================] - 3s 2ms/step - loss: 0.0117\n",
            "Epoch 3/10\n",
            "1875/1875 [==============================] - 3s 2ms/step - loss: 0.0102\n",
            "Epoch 4/10\n",
            "1875/1875 [==============================] - 3s 2ms/step - loss: 0.0096\n",
            "Epoch 5/10\n",
            "1875/1875 [==============================] - 3s 2ms/step - loss: 0.0093\n",
            "Epoch 6/10\n",
            "1875/1875 [==============================] - 3s 2ms/step - loss: 0.0091\n",
            "Epoch 7/10\n",
            "1875/1875 [==============================] - 3s 2ms/step - loss: 0.0090\n",
            "Epoch 8/10\n",
            "1875/1875 [==============================] - 3s 2ms/step - loss: 0.0090\n",
            "Epoch 9/10\n",
            "1875/1875 [==============================] - 3s 2ms/step - loss: 0.0088\n",
            "Epoch 10/10\n",
            "1875/1875 [==============================] - 3s 2ms/step - loss: 0.0088\n"
          ]
        },
        {
          "output_type": "execute_result",
          "data": {
            "text/plain": [
              "<keras.callbacks.History at 0x7fa02011cd90>"
            ]
          },
          "metadata": {},
          "execution_count": 5
        }
      ]
    },
    {
      "cell_type": "markdown",
      "source": [
        "Next, we use the autoencoder to predict the values of the testing set. "
      ],
      "metadata": {
        "id": "wa-yayQxTXdb"
      }
    },
    {
      "cell_type": "code",
      "source": [
        "# predicting the values of the testing set\n",
        "reconstructed_test = autoencoder.predict(x_test)"
      ],
      "metadata": {
        "colab": {
          "base_uri": "https://localhost:8080/"
        },
        "id": "HucKuvOaGpnC",
        "outputId": "a4a2ea82-e393-49e5-e6d7-ae914e193f33"
      },
      "execution_count": null,
      "outputs": [
        {
          "output_type": "stream",
          "name": "stdout",
          "text": [
            "313/313 [==============================] - 1s 2ms/step\n"
          ]
        }
      ]
    },
    {
      "cell_type": "markdown",
      "source": [
        "To check how our model performs, we plot the original and the reconstructed images from the test set. We use functions from the matplotlib library to do so."
      ],
      "metadata": {
        "id": "fkKT0FpETfOj"
      }
    },
    {
      "cell_type": "code",
      "source": [
        "# plotting the original and reconstructed images\n",
        "fig, ax = plt.subplots(3, 2)\n",
        "ax[0,0].set_title('Original Images')\n",
        "ax[0,1].set_title('Reconstructed Images')\n",
        "ax[0,0].imshow(x_test[0].reshape(28,28))\n",
        "ax[0,1].imshow(reconstructed_test[0].reshape(28,28))\n",
        "ax[1,0].imshow(x_test[1].reshape(28,28))\n",
        "ax[1,1].imshow(reconstructed_test[1].reshape(28,28))\n",
        "ax[2,0].imshow(x_test[2].reshape(28,28))\n",
        "ax[2,1].imshow(reconstructed_test[2].reshape(28,28))"
      ],
      "metadata": {
        "colab": {
          "base_uri": "https://localhost:8080/",
          "height": 298
        },
        "id": "XXjKj8LUHEby",
        "outputId": "201dbe1f-2bed-4ae6-89a8-d9ad9093bb89"
      },
      "execution_count": null,
      "outputs": [
        {
          "output_type": "execute_result",
          "data": {
            "text/plain": [
              "<matplotlib.image.AxesImage at 0x7f9fca44fe20>"
            ]
          },
          "metadata": {},
          "execution_count": 7
        },
        {
          "output_type": "display_data",
          "data": {
            "text/plain": [
              "<Figure size 432x288 with 6 Axes>"
            ],
            "image/png": "[encoded data removed]"
          },
          "metadata": {
            "needs_background": "light"
          }
        }
      ]
    },
    {
      "cell_type": "markdown",
      "source": [
        "As we can see, the reconstructed images are somewhat distorted and donot capture the minute details of the images, however, they do give us the general shape of the images."
      ],
      "metadata": {
        "id": "vIsv9iCZTvHC"
      }
    },
    {
      "cell_type": "markdown",
      "source": [
        "To quantify the above inference, we calculate the mean squared error of the reconstructed test set using the mean_squared_error function from the sklearn library."
      ],
      "metadata": {
        "id": "HJnWDBsvUeEg"
      }
    },
    {
      "cell_type": "code",
      "source": [
        "# calculating the mean squared error\n",
        "from sklearn.metrics import mean_squared_error\n",
        "print(mean_squared_error(x_test, reconstructed_test))"
      ],
      "metadata": {
        "colab": {
          "base_uri": "https://localhost:8080/"
        },
        "id": "yhNr60UMUPg3",
        "outputId": "dc10e237-5af4-43e4-b8c1-2da1f989be28"
      },
      "execution_count": null,
      "outputs": [
        {
          "output_type": "stream",
          "name": "stdout",
          "text": [
            "0.009009444\n"
          ]
        }
      ]
    },
    {
      "cell_type": "markdown",
      "source": [
        "As we can see, the mean squared error is not very high, which means that the autoencoder does a decent job in reproducing the input images."
      ],
      "metadata": {
        "id": "ymKLpnd7UxAU"
      }
    },
    {
      "cell_type": "markdown",
      "source": [
        "## Exercise 2"
      ],
      "metadata": {
        "id": "btVYij68JLbp"
      }
    },
    {
      "cell_type": "markdown",
      "source": [
        "To start with Exercise 2, we call the ECG5000 dataset using the Google API. "
      ],
      "metadata": {
        "id": "w29EL4UsU-9P"
      }
    },
    {
      "cell_type": "code",
      "source": [
        "# calling the dataset using the API\n",
        "dataframe = pd.read_csv('http://storage.googleapis.com/download.tensorflow.org/data/ecg.csv', header=None)\n",
        "raw_data = dataframe.values\n",
        "dataframe.head()"
      ],
      "metadata": {
        "colab": {
          "base_uri": "https://localhost:8080/",
          "height": 236
        },
        "id": "vztIjvF8HLEL",
        "outputId": "47d077ef-10ac-4cf1-9e14-bb02b53def86"
      },
      "execution_count": null,
      "outputs": [
        {
          "output_type": "execute_result",
          "data": {
            "text/plain": [
              "        0         1         2         3         4         5         6    \\\n",
              "0 -0.112522 -2.827204 -3.773897 -4.349751 -4.376041 -3.474986 -2.181408   \n",
              "1 -1.100878 -3.996840 -4.285843 -4.506579 -4.022377 -3.234368 -1.566126   \n",
              "2 -0.567088 -2.593450 -3.874230 -4.584095 -4.187449 -3.151462 -1.742940   \n",
              "3  0.490473 -1.914407 -3.616364 -4.318823 -4.268016 -3.881110 -2.993280   \n",
              "4  0.800232 -0.874252 -2.384761 -3.973292 -4.338224 -3.802422 -2.534510   \n",
              "\n",
              "        7         8         9    ...       131       132       133       134  \\\n",
              "0 -1.818286 -1.250522 -0.477492  ...  0.792168  0.933541  0.796958  0.578621   \n",
              "1 -0.992258 -0.754680  0.042321  ...  0.538356  0.656881  0.787490  0.724046   \n",
              "2 -1.490659 -1.183580 -0.394229  ...  0.886073  0.531452  0.311377 -0.021919   \n",
              "3 -1.671131 -1.333884 -0.965629  ...  0.350816  0.499111  0.600345  0.842069   \n",
              "4 -1.783423 -1.594450 -0.753199  ...  1.148884  0.958434  1.059025  1.371682   \n",
              "\n",
              "        135       136       137       138       139  140  \n",
              "0  0.257740  0.228077  0.123431  0.925286  0.193137  1.0  \n",
              "1  0.555784  0.476333  0.773820  1.119621 -1.436250  1.0  \n",
              "2 -0.713683 -0.532197  0.321097  0.904227 -0.421797  1.0  \n",
              "3  0.952074  0.990133  1.086798  1.403011 -0.383564  1.0  \n",
              "4  1.277392  0.960304  0.971020  1.614392  1.421456  1.0  \n",
              "\n",
              "[5 rows x 141 columns]"
            ],
            "text/html": [
              "\n",
              "  <div id=\"df-97020085-ce62-49ce-9f83-aad813ef5028\">\n",
              "    <div class=\"colab-df-container\">\n",
              "      <div>\n",
              "<style scoped>\n",
              "    .dataframe tbody tr th:only-of-type {\n",
              "        vertical-align: middle;\n",
              "    }\n",
              "\n",
              "    .dataframe tbody tr th {\n",
              "        vertical-align: top;\n",
              "    }\n",
              "\n",
              "    .dataframe thead th {\n",
              "        text-align: right;\n",
              "    }\n",
              "</style>\n",
              "<table border=\"1\" class=\"dataframe\">\n",
              "  <thead>\n",
              "    <tr style=\"text-align: right;\">\n",
              "      <th></th>\n",
              "      <th>0</th>\n",
              "      <th>1</th>\n",
              "      <th>2</th>\n",
              "      <th>3</th>\n",
              "      <th>4</th>\n",
              "      <th>5</th>\n",
              "      <th>6</th>\n",
              "      <th>7</th>\n",
              "      <th>8</th>\n",
              "      <th>9</th>\n",
              "      <th>...</th>\n",
              "      <th>131</th>\n",
              "      <th>132</th>\n",
              "      <th>133</th>\n",
              "      <th>134</th>\n",
              "      <th>135</th>\n",
              "      <th>136</th>\n",
              "      <th>137</th>\n",
              "      <th>138</th>\n",
              "      <th>139</th>\n",
              "      <th>140</th>\n",
              "    </tr>\n",
              "  </thead>\n",
              "  <tbody>\n",
              "    <tr>\n",
              "      <th>0</th>\n",
              "      <td>-0.112522</td>\n",
              "      <td>-2.827204</td>\n",
              "      <td>-3.773897</td>\n",
              "      <td>-4.349751</td>\n",
              "      <td>-4.376041</td>\n",
              "      <td>-3.474986</td>\n",
              "      <td>-2.181408</td>\n",
              "      <td>-1.818286</td>\n",
              "      <td>-1.250522</td>\n",
              "      <td>-0.477492</td>\n",
              "      <td>...</td>\n",
              "      <td>0.792168</td>\n",
              "      <td>0.933541</td>\n",
              "      <td>0.796958</td>\n",
              "      <td>0.578621</td>\n",
              "      <td>0.257740</td>\n",
              "      <td>0.228077</td>\n",
              "      <td>0.123431</td>\n",
              "      <td>0.925286</td>\n",
              "      <td>0.193137</td>\n",
              "      <td>1.0</td>\n",
              "    </tr>\n",
              "    <tr>\n",
              "      <th>1</th>\n",
              "      <td>-1.100878</td>\n",
              "      <td>-3.996840</td>\n",
              "      <td>-4.285843</td>\n",
              "      <td>-4.506579</td>\n",
              "      <td>-4.022377</td>\n",
              "      <td>-3.234368</td>\n",
              "      <td>-1.566126</td>\n",
              "      <td>-0.992258</td>\n",
              "      <td>-0.754680</td>\n",
              "      <td>0.042321</td>\n",
              "      <td>...</td>\n",
              "      <td>0.538356</td>\n",
              "      <td>0.656881</td>\n",
              "      <td>0.787490</td>\n",
              "      <td>0.724046</td>\n",
              "      <td>0.555784</td>\n",
              "      <td>0.476333</td>\n",
              "      <td>0.773820</td>\n",
              "      <td>1.119621</td>\n",
              "      <td>-1.436250</td>\n",
              "      <td>1.0</td>\n",
              "    </tr>\n",
              "    <tr>\n",
              "      <th>2</th>\n",
              "      <td>-0.567088</td>\n",
              "      <td>-2.593450</td>\n",
              "      <td>-3.874230</td>\n",
              "      <td>-4.584095</td>\n",
              "      <td>-4.187449</td>\n",
              "      <td>-3.151462</td>\n",
              "      <td>-1.742940</td>\n",
              "      <td>-1.490659</td>\n",
              "      <td>-1.183580</td>\n",
              "      <td>-0.394229</td>\n",
              "      <td>...</td>\n",
              "      <td>0.886073</td>\n",
              "      <td>0.531452</td>\n",
              "      <td>0.311377</td>\n",
              "      <td>-0.021919</td>\n",
              "      <td>-0.713683</td>\n",
              "      <td>-0.532197</td>\n",
              "      <td>0.321097</td>\n",
              "      <td>0.904227</td>\n",
              "      <td>-0.421797</td>\n",
              "      <td>1.0</td>\n",
              "    </tr>\n",
              "    <tr>\n",
              "      <th>3</th>\n",
              "      <td>0.490473</td>\n",
              "      <td>-1.914407</td>\n",
              "      <td>-3.616364</td>\n",
              "      <td>-4.318823</td>\n",
              "      <td>-4.268016</td>\n",
              "      <td>-3.881110</td>\n",
              "      <td>-2.993280</td>\n",
              "      <td>-1.671131</td>\n",
              "      <td>-1.333884</td>\n",
              "      <td>-0.965629</td>\n",
              "      <td>...</td>\n",
              "      <td>0.350816</td>\n",
              "      <td>0.499111</td>\n",
              "      <td>0.600345</td>\n",
              "      <td>0.842069</td>\n",
              "      <td>0.952074</td>\n",
              "      <td>0.990133</td>\n",
              "      <td>1.086798</td>\n",
              "      <td>1.403011</td>\n",
              "      <td>-0.383564</td>\n",
              "      <td>1.0</td>\n",
              "    </tr>\n",
              "    <tr>\n",
              "      <th>4</th>\n",
              "      <td>0.800232</td>\n",
              "      <td>-0.874252</td>\n",
              "      <td>-2.384761</td>\n",
              "      <td>-3.973292</td>\n",
              "      <td>-4.338224</td>\n",
              "      <td>-3.802422</td>\n",
              "      <td>-2.534510</td>\n",
              "      <td>-1.783423</td>\n",
              "      <td>-1.594450</td>\n",
              "      <td>-0.753199</td>\n",
              "      <td>...</td>\n",
              "      <td>1.148884</td>\n",
              "      <td>0.958434</td>\n",
              "      <td>1.059025</td>\n",
              "      <td>1.371682</td>\n",
              "      <td>1.277392</td>\n",
              "      <td>0.960304</td>\n",
              "      <td>0.971020</td>\n",
              "      <td>1.614392</td>\n",
              "      <td>1.421456</td>\n",
              "      <td>1.0</td>\n",
              "    </tr>\n",
              "  </tbody>\n",
              "</table>\n",
              "<p>5 rows × 141 columns</p>\n",
              "</div>\n",
              "      <button class=\"colab-df-convert\" onclick=\"convertToInteractive('df-97020085-ce62-49ce-9f83-aad813ef5028')\"\n",
              "              title=\"Convert this dataframe to an interactive table.\"\n",
              "              style=\"display:none;\">\n",
              "        \n",
              "  <svg xmlns=\"http://www.w3.org/2000/svg\" height=\"24px\"viewBox=\"0 0 24 24\"\n",
              "       width=\"24px\">\n",
              "    <path d=\"M0 0h24v24H0V0z\" fill=\"none\"/>\n",
              "    <path d=\"M18.56 5.44l.94 2.06.94-2.06 2.06-.94-2.06-.94-.94-2.06-.94 2.06-2.06.94zm-11 1L8.5 8.5l.94-2.06 2.06-.94-2.06-.94L8.5 2.5l-.94 2.06-2.06.94zm10 10l.94 2.06.94-2.06 2.06-.94-2.06-.94-.94-2.06-.94 2.06-2.06.94z\"/><path d=\"M17.41 7.96l-1.37-1.37c-.4-.4-.92-.59-1.43-.59-.52 0-1.04.2-1.43.59L10.3 9.45l-7.72 7.72c-.78.78-.78 2.05 0 2.83L4 21.41c.39.39.9.59 1.41.59.51 0 1.02-.2 1.41-.59l7.78-7.78 2.81-2.81c.8-.78.8-2.07 0-2.86zM5.41 20L4 18.59l7.72-7.72 1.47 1.35L5.41 20z\"/>\n",
              "  </svg>\n",
              "      </button>\n",
              "      \n",
              "  <style>\n",
              "    .colab-df-container {\n",
              "      display:flex;\n",
              "      flex-wrap:wrap;\n",
              "      gap: 12px;\n",
              "    }\n",
              "\n",
              "    .colab-df-convert {\n",
              "      background-color: #E8F0FE;\n",
              "      border: none;\n",
              "      border-radius: 50%;\n",
              "      cursor: pointer;\n",
              "      display: none;\n",
              "      fill: #1967D2;\n",
              "      height: 32px;\n",
              "      padding: 0 0 0 0;\n",
              "      width: 32px;\n",
              "    }\n",
              "\n",
              "    .colab-df-convert:hover {\n",
              "      background-color: #E2EBFA;\n",
              "      box-shadow: 0px 1px 2px rgba(60, 64, 67, 0.3), 0px 1px 3px 1px rgba(60, 64, 67, 0.15);\n",
              "      fill: #174EA6;\n",
              "    }\n",
              "\n",
              "    [theme=dark] .colab-df-convert {\n",
              "      background-color: #3B4455;\n",
              "      fill: #D2E3FC;\n",
              "    }\n",
              "\n",
              "    [theme=dark] .colab-df-convert:hover {\n",
              "      background-color: #434B5C;\n",
              "      box-shadow: 0px 1px 3px 1px rgba(0, 0, 0, 0.15);\n",
              "      filter: drop-shadow(0px 1px 2px rgba(0, 0, 0, 0.3));\n",
              "      fill: #FFFFFF;\n",
              "    }\n",
              "  </style>\n",
              "\n",
              "      <script>\n",
              "        const buttonEl =\n",
              "          document.querySelector('#df-97020085-ce62-49ce-9f83-aad813ef5028 button.colab-df-convert');\n",
              "        buttonEl.style.display =\n",
              "          google.colab.kernel.accessAllowed ? 'block' : 'none';\n",
              "\n",
              "        async function convertToInteractive(key) {\n",
              "          const element = document.querySelector('#df-97020085-ce62-49ce-9f83-aad813ef5028');\n",
              "          const dataTable =\n",
              "            await google.colab.kernel.invokeFunction('convertToInteractive',\n",
              "                                                     [key], {});\n",
              "          if (!dataTable) return;\n",
              "\n",
              "          const docLinkHtml = 'Like what you see? Visit the ' +\n",
              "            '<a target=\"_blank\" href=https://colab.research.google.com/notebooks/data_table.ipynb>data table notebook</a>'\n",
              "            + ' to learn more about interactive tables.';\n",
              "          element.innerHTML = '';\n",
              "          dataTable['output_type'] = 'display_data';\n",
              "          await google.colab.output.renderOutput(dataTable, element);\n",
              "          const docLink = document.createElement('div');\n",
              "          docLink.innerHTML = docLinkHtml;\n",
              "          element.appendChild(docLink);\n",
              "        }\n",
              "      </script>\n",
              "    </div>\n",
              "  </div>\n",
              "  "
            ]
          },
          "metadata": {},
          "execution_count": 37
        }
      ]
    },
    {
      "cell_type": "markdown",
      "source": [
        "Next, we format the raw data and the labels and then split the dataset using the train_test_split function from the sklearn library."
      ],
      "metadata": {
        "id": "n2FThdoEVLpj"
      }
    },
    {
      "cell_type": "code",
      "source": [
        "# formatting the dataset\n",
        "labels = raw_data[:, -1]\n",
        "data = raw_data[:, 0:-1]\n",
        "\n",
        "# splitting the dataset\n",
        "from sklearn.model_selection import train_test_split\n",
        "train_data, test_data, train_labels, test_labels = train_test_split(data, labels, test_size=0.2, random_state=42)"
      ],
      "metadata": {
        "id": "Xa-Y6gMGJQMx"
      },
      "execution_count": null,
      "outputs": []
    },
    {
      "cell_type": "markdown",
      "source": [
        "After that, we scale the data values using Min Max scaling technique."
      ],
      "metadata": {
        "id": "wwd6oYWMVbZe"
      }
    },
    {
      "cell_type": "code",
      "source": [
        "# scaling the data values\n",
        "min_val = tf.reduce_min(train_data)\n",
        "max_val = tf.reduce_max(train_data)\n",
        "train_data = (train_data - min_val) / (max_val - min_val)\n",
        "test_data = (test_data - min_val) / (max_val - min_val)\n",
        "train_data = tf.cast(train_data, tf.float32)\n",
        "test_data = tf.cast(test_data, tf.float32)"
      ],
      "metadata": {
        "id": "557yb_rDJVrg"
      },
      "execution_count": null,
      "outputs": []
    },
    {
      "cell_type": "markdown",
      "source": [
        "To further format the data, we convert the labels into boolean values. Next, we segregate the normal and anomalous ECG observations using the boolean values."
      ],
      "metadata": {
        "id": "kg2YRRHrVmA0"
      }
    },
    {
      "cell_type": "code",
      "source": [
        "# formatting the labels\n",
        "train_labels = train_labels.astype(bool)\n",
        "test_labels = test_labels.astype(bool)\n",
        "\n",
        "# segregating the normal and anomalous ECG observations\n",
        "normal_train_data = train_data[train_labels]\n",
        "anomalous_train_data = train_data[~train_labels]"
      ],
      "metadata": {
        "id": "8WY-yey-Jg_h"
      },
      "execution_count": null,
      "outputs": []
    },
    {
      "cell_type": "markdown",
      "source": [
        "To have a look at the normal and anomalous ECG observations, we plot them using functions from the matplotlib library."
      ],
      "metadata": {
        "id": "bttoEi8mV3A5"
      }
    },
    {
      "cell_type": "code",
      "source": [
        "# plotting the normal and anomalous ECG observations\n",
        "fig, ax = plt.subplots(nrows=1, ncols=2, figsize=(15, 5))\n",
        "ax[0].plot(np.arange(140), normal_train_data[0])\n",
        "ax[0].set_title('Normal ECG')\n",
        "ax[1].plot(np.arange(140), anomalous_train_data[0])\n",
        "ax[1].set_title('Anomalous ECG')"
      ],
      "metadata": {
        "colab": {
          "base_uri": "https://localhost:8080/",
          "height": 353
        },
        "id": "_-yFQdk-JjZg",
        "outputId": "c48ded74-e96d-4314-f6d5-a8f27126c3af"
      },
      "execution_count": null,
      "outputs": [
        {
          "output_type": "execute_result",
          "data": {
            "text/plain": [
              "Text(0.5, 1.0, 'Anomalous ECG')"
            ]
          },
          "metadata": {},
          "execution_count": 44
        },
        {
          "output_type": "display_data",
          "data": {
            "text/plain": [
              "<Figure size 1080x360 with 2 Axes>"
            ],
            "image/png": "[encoded data removed]"
          },
          "metadata": {
            "needs_background": "light"
          }
        }
      ]
    },
    {
      "cell_type": "markdown",
      "source": [
        "Next, we build the autoencoder having the following layers:\n",
        "- Input: takes in the 140 dimensional ECG vector\n",
        "- Encoder: consists of 5 layers which maps the 140 dimensional input to a 8 dimensional latent space\n",
        "- Decoder: consists of 5 layers which maps the 8 dimensional latent space back to a 140 dimensional output ECG observation.\n",
        "\n",
        "We then link the above layers and put together the model."
      ],
      "metadata": {
        "id": "jFxLNHl9WB8Y"
      }
    },
    {
      "cell_type": "code",
      "source": [
        "# input layer\n",
        "input = tf.keras.Input(shape=(140,))\n",
        "\n",
        "# encoder layers\n",
        "encoder = tf.keras.Sequential([\n",
        "    tf.keras.layers.Dense(140, activation='relu'),\n",
        "    tf.keras.layers.Dense(64, activation='relu'),\n",
        "    tf.keras.layers.Dense(32, activation='relu'),\n",
        "    tf.keras.layers.Dense(16, activation='relu'),\n",
        "    tf.keras.layers.Dense(8, activation='relu'),\n",
        "])\n",
        "\n",
        "# decoder layers\n",
        "decoder = tf.keras.Sequential([\n",
        "    tf.keras.layers.Dense(8, activation='relu'),\n",
        "    tf.keras.layers.Dense(16, activation='relu'),\n",
        "    tf.keras.layers.Dense(32, activation='relu'),\n",
        "    tf.keras.layers.Dense(64, activation='relu'),\n",
        "    tf.keras.layers.Dense(140, activation='relu'),\n",
        "])\n",
        "\n",
        "# linking the layers and putting together the model\n",
        "encoded = encoder(input)\n",
        "decoded = decoder(encoded)\n",
        "autoencoder = tf.keras.Model(input, decoded)"
      ],
      "metadata": {
        "id": "kt_Uib_TJwCJ"
      },
      "execution_count": null,
      "outputs": []
    },
    {
      "cell_type": "markdown",
      "source": [
        "Next, we compile the autoencoder and fit it on the normal ECG training data. We use the adam optimizer and mean squared error for the same."
      ],
      "metadata": {
        "id": "uzwbHC2NWnLP"
      }
    },
    {
      "cell_type": "code",
      "source": [
        "# compiling and training the model\n",
        "autoencoder.compile(optimizer='adam', loss='mean_squared_error')\n",
        "autoencoder.fit(normal_train_data, normal_train_data, epochs=20)"
      ],
      "metadata": {
        "colab": {
          "base_uri": "https://localhost:8080/"
        },
        "id": "FxRH4GYjMSNB",
        "outputId": "dd3fcdda-db14-4c6d-cfae-ee76ff91ea29"
      },
      "execution_count": null,
      "outputs": [
        {
          "output_type": "stream",
          "name": "stdout",
          "text": [
            "Epoch 1/20\n",
            "73/73 [==============================] - 1s 3ms/step - loss: 0.0371\n",
            "Epoch 2/20\n",
            "73/73 [==============================] - 0s 3ms/step - loss: 0.0371\n",
            "Epoch 3/20\n",
            "73/73 [==============================] - 0s 3ms/step - loss: 0.0371\n",
            "Epoch 4/20\n",
            "73/73 [==============================] - 0s 3ms/step - loss: 0.0371\n",
            "Epoch 5/20\n",
            "73/73 [==============================] - 0s 3ms/step - loss: 0.0371\n",
            "Epoch 6/20\n",
            "73/73 [==============================] - 0s 3ms/step - loss: 0.0371\n",
            "Epoch 7/20\n",
            "73/73 [==============================] - 0s 3ms/step - loss: 0.0371\n",
            "Epoch 8/20\n",
            "73/73 [==============================] - 0s 4ms/step - loss: 0.0371\n",
            "Epoch 9/20\n",
            "73/73 [==============================] - 0s 5ms/step - loss: 0.0371\n",
            "Epoch 10/20\n",
            "73/73 [==============================] - 0s 6ms/step - loss: 0.0371\n",
            "Epoch 11/20\n",
            "73/73 [==============================] - 0s 5ms/step - loss: 0.0371\n",
            "Epoch 12/20\n",
            "73/73 [==============================] - 0s 4ms/step - loss: 0.0371\n",
            "Epoch 13/20\n",
            "73/73 [==============================] - 0s 5ms/step - loss: 0.0371\n",
            "Epoch 14/20\n",
            "73/73 [==============================] - 0s 3ms/step - loss: 0.0370\n",
            "Epoch 15/20\n",
            "73/73 [==============================] - 0s 6ms/step - loss: 0.0371\n",
            "Epoch 16/20\n",
            "73/73 [==============================] - 0s 6ms/step - loss: 0.0370\n",
            "Epoch 17/20\n",
            "73/73 [==============================] - 0s 7ms/step - loss: 0.0371\n",
            "Epoch 18/20\n",
            "73/73 [==============================] - 0s 6ms/step - loss: 0.0370\n",
            "Epoch 19/20\n",
            "73/73 [==============================] - 0s 4ms/step - loss: 0.0370\n",
            "Epoch 20/20\n",
            "73/73 [==============================] - 0s 4ms/step - loss: 0.0370\n"
          ]
        },
        {
          "output_type": "execute_result",
          "data": {
            "text/plain": [
              "<keras.callbacks.History at 0x7f6d75b15a60>"
            ]
          },
          "metadata": {},
          "execution_count": 68
        }
      ]
    },
    {
      "cell_type": "markdown",
      "source": [
        "Next, we find the training loss by predicting the outcome of the normal training data and calculating the mean squared error."
      ],
      "metadata": {
        "id": "W2T0eogpWyh7"
      }
    },
    {
      "cell_type": "code",
      "source": [
        "# calculating the training loss\n",
        "reconstructions = autoencoder.predict(normal_train_data)\n",
        "train_loss = tf.keras.losses.mean_squared_error(reconstructions, normal_train_data)"
      ],
      "metadata": {
        "colab": {
          "base_uri": "https://localhost:8080/"
        },
        "id": "uhxPD_CIQQMh",
        "outputId": "a8803e96-054a-4d3a-b03d-9ccdfb01176a"
      },
      "execution_count": null,
      "outputs": [
        {
          "output_type": "stream",
          "name": "stdout",
          "text": [
            "73/73 [==============================] - 0s 2ms/step\n"
          ]
        }
      ]
    },
    {
      "cell_type": "markdown",
      "source": [
        "We use the loss calculated above to set a threshold to classify ECGs as normal or anomalous. This threshold is the mean of the training loss added to the standard deviation of the same."
      ],
      "metadata": {
        "id": "07J1L55sW_Ad"
      }
    },
    {
      "cell_type": "code",
      "source": [
        "# calculating the threshold\n",
        "threshold = np.mean(train_loss) + np.std(train_loss)"
      ],
      "metadata": {
        "id": "gBMWb38KQlza"
      },
      "execution_count": null,
      "outputs": []
    },
    {
      "cell_type": "markdown",
      "source": [
        "Next, we predict the values of the entire test data. To classify the anomalous observations from the test data, we check if our reconstruction error is more than the threshold. If it is, it is classified as anomalous."
      ],
      "metadata": {
        "id": "fv3JX-0TXQRn"
      }
    },
    {
      "cell_type": "code",
      "source": [
        "# predicting from test\n",
        "reconstructed_test = autoencoder.predict(test_data)\n",
        "\n",
        "# classifying as anomalous\n",
        "losses = tf.keras.losses.mean_squared_error(reconstructed_test, test_data)\n",
        "anomalies = tf.math.less(losses, threshold)"
      ],
      "metadata": {
        "colab": {
          "base_uri": "https://localhost:8080/"
        },
        "id": "pAl2QCJpQ0GY",
        "outputId": "9909eccd-17b2-4870-c838-60a1f56dc714"
      },
      "execution_count": null,
      "outputs": [
        {
          "output_type": "stream",
          "name": "stdout",
          "text": [
            "32/32 [==============================] - 0s 2ms/step\n"
          ]
        }
      ]
    },
    {
      "cell_type": "markdown",
      "source": [
        "To check how well we've classified the anomalous ECGs, we calculate the classfication metrics."
      ],
      "metadata": {
        "id": "4TfPZecbY4Kc"
      }
    },
    {
      "cell_type": "code",
      "source": [
        "# calculating the classification metrics\n",
        "from sklearn.metrics import accuracy_score, precision_score, recall_score\n",
        "print(str.format('Accuracy: {:.2f}', accuracy_score(test_labels, anomalies)))\n",
        "print(str.format('Precision: {:.2f}', precision_score(test_labels, anomalies)))\n",
        "print(str.format('Recall: {:.2f}', recall_score(test_labels, anomalies)))"
      ],
      "metadata": {
        "colab": {
          "base_uri": "https://localhost:8080/"
        },
        "id": "Jf5NiRrlRu35",
        "outputId": "bd7930b9-f78f-41d7-8866-c29aee2468da"
      },
      "execution_count": null,
      "outputs": [
        {
          "output_type": "stream",
          "name": "stdout",
          "text": [
            "Accuracy: 0.88\n",
            "Precision: 0.98\n",
            "Recall: 0.82\n"
          ]
        }
      ]
    },
    {
      "cell_type": "markdown",
      "source": [
        "As we can see, the accuracy is 88%, precision is 0.98, and recall is 0.82. This means that the model performs decently."
      ],
      "metadata": {
        "id": "0-qgjcXyZobc"
      }
    }
  ]
}